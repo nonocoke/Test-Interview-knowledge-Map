{
 "metadata": {
  "language_info": {
   "codemirror_mode": {
    "name": "ipython",
    "version": 3
   },
   "file_extension": ".py",
   "mimetype": "text/x-python",
   "name": "python",
   "nbconvert_exporter": "python",
   "pygments_lexer": "ipython3",
   "version": "3.8.2"
  },
  "orig_nbformat": 2,
  "kernelspec": {
   "name": "python382jvsc74a57bd031f2aee4e71d21fbe5cf8b01ff0e069b9275f58929596ceb00d14d90e3e16cd6",
   "display_name": "Python 3.8.2 64-bit"
  },
  "metadata": {
   "interpreter": {
    "hash": "31f2aee4e71d21fbe5cf8b01ff0e069b9275f58929596ceb00d14d90e3e16cd6"
   }
  }
 },
 "nbformat": 4,
 "nbformat_minor": 2,
 "cells": [
  {
   "cell_type": "code",
   "execution_count": 5,
   "metadata": {},
   "outputs": [
    {
     "output_type": "stream",
     "name": "stdout",
     "text": [
      "['asdf', 'fjdk', 'afed', 'fjek', 'asdf', 'foo']\n['asdf', ' ', 'fjdk', ';', 'afed', ',', 'fjek', ',', 'asdf', ',', 'foo']\n"
     ]
    }
   ],
   "source": [
    "# 2.1 使用多个界定符分割字符串\n",
    "# 你需要将一个字符串分割为多个字段，但是分隔符(还有周围的空格)并不是固定的\n",
    "#     string 对象的 split() 方法只适应于非常简单的字符串分割情形， 它并不允许有多个分隔符或者是分隔符周围不确定的空格\n",
    "line = 'asdf fjdk; afed, fjek,asdf, foo'\n",
    "import re\n",
    "print(re.split(r'[;,\\s]\\s*', line))\n",
    "# 当你使用 re.split() 函数时候，需要特别注意的是正则表达式中是否包含一个括号捕获分组\n",
    "fields = re.split(r'(;|,|\\s)\\s*', line)\n",
    "print(fields)"
   ]
  },
  {
   "cell_type": "code",
   "execution_count": 6,
   "metadata": {},
   "outputs": [
    {
     "output_type": "execute_result",
     "data": {
      "text/plain": [
       "['asdf', 'fjdk', 'afed', 'fjek', 'asdf', 'foo']"
      ]
     },
     "metadata": {},
     "execution_count": 6
    }
   ],
   "source": [
    "# 如果你不想保留分割字符串到结果列表中去，但仍然需要使用到括号来分组正则表达式的话， 确保你的分组是非捕获分组，形如 (?:...)\n",
    "re.split(r'(?:,|;|\\s)\\s*', line)"
   ]
  },
  {
   "cell_type": "code",
   "execution_count": 7,
   "metadata": {},
   "outputs": [
    {
     "output_type": "execute_result",
     "data": {
      "text/plain": [
       "True"
      ]
     },
     "metadata": {},
     "execution_count": 7
    }
   ],
   "source": [
    "# 2.2 字符串开头或结尾匹配\n",
    "# 检查字符串开头或结尾的一个简单方法是使用 str.startswith() 或者是 str.endswith() 方法\n",
    "filename = 'spam.txt'\n",
    "filename.startswith('spa')"
   ]
  },
  {
   "cell_type": "code",
   "execution_count": 9,
   "metadata": {},
   "outputs": [
    {
     "output_type": "execute_result",
     "data": {
      "text/plain": [
       "['quickSort.py', 'README.md']"
      ]
     },
     "metadata": {},
     "execution_count": 9
    }
   ],
   "source": [
    "import os\n",
    "filenames = os.listdir('.')\n",
    "[ name for name in filenames if name.endswith(('.py', '.md')) ]"
   ]
  },
  {
   "cell_type": "code",
   "execution_count": 10,
   "metadata": {},
   "outputs": [
    {
     "output_type": "execute_result",
     "data": {
      "text/plain": [
       "True"
      ]
     },
     "metadata": {},
     "execution_count": 10
    }
   ],
   "source": [
    "any(name.endswith('.py') for name in filenames)"
   ]
  },
  {
   "cell_type": "code",
   "execution_count": 19,
   "metadata": {},
   "outputs": [
    {
     "output_type": "execute_result",
     "data": {
      "text/plain": [
       "True"
      ]
     },
     "metadata": {},
     "execution_count": 19
    }
   ],
   "source": [
    "# 头部信息匹配\n",
    "url = 'http://www.python.org'\n",
    "url.startswith(('http:', 'https:', 'ftp:'))\n",
    "# re.match('http:|https:|ftp:', url)\n",
    "# url[:5] == 'http:' or url[:6] == 'https:' or url[:4] == 'ftp:'"
   ]
  },
  {
   "cell_type": "code",
   "execution_count": 23,
   "metadata": {},
   "outputs": [
    {
     "output_type": "stream",
     "name": "stdout",
     "text": [
      "False\n['5412 N CLARK ST', '1060 W ADDISON ST', '2122 N CLARK ST']\n"
     ]
    },
    {
     "output_type": "execute_result",
     "data": {
      "text/plain": [
       "['5412 N CLARK ST']"
      ]
     },
     "metadata": {},
     "execution_count": 23
    }
   ],
   "source": [
    "# 2.3 用 Shell 通配符匹配字符串\n",
    "from fnmatch import fnmatchcase\n",
    "print(fnmatchcase('foo.txt', '*.TXT'))  # 完全使用你的模式大小写匹配\n",
    "addresses = [\n",
    "    '5412 N CLARK ST',\n",
    "    '1060 W ADDISON ST',\n",
    "    '1039 W GRANVILLE AVE',\n",
    "    '2122 N CLARK ST',\n",
    "    '4802 N BROADWAY',\n",
    "]\n",
    "print([addr for addr in addresses if fnmatchcase(addr, '* ST')])\n",
    "[addr for addr in addresses if fnmatchcase(addr, '54[0-9][0-9] *CLARK*')]"
   ]
  },
  {
   "cell_type": "code",
   "execution_count": 24,
   "metadata": {},
   "outputs": [
    {
     "output_type": "execute_result",
     "data": {
      "text/plain": [
       "10"
      ]
     },
     "metadata": {},
     "execution_count": 24
    }
   ],
   "source": [
    "# 2.4 字符串匹配和搜索\n",
    "# 匹配或者搜索特定模式的文本 (正则表达式)\n",
    "# * str.find() , str.endswith() , str.startswith()\n",
    "text = 'yeah, but no, but yeah, but no, but yeah'\n",
    "text.find('no')"
   ]
  },
  {
   "cell_type": "code",
   "execution_count": 32,
   "metadata": {},
   "outputs": [
    {
     "output_type": "execute_result",
     "data": {
      "text/plain": [
       "<re.Match object; span=(0, 10), match='11/27/2012'>"
      ]
     },
     "metadata": {},
     "execution_count": 32
    }
   ],
   "source": [
    "# 对于复杂的匹配需要使用正则表达式和 re 模块\n",
    "text1 = '11/27/2012'\n",
    "text2 = 'Nov 27, 2012'\n",
    "re.match(r'\\d+/\\d+/\\d+', text1)  # <re.Match object; span=(0, 10), match='11/27/2012'>\n",
    "# re.match(r'\\d+/\\d+/\\d+', text2)  # 未匹配返回空"
   ]
  },
  {
   "cell_type": "code",
   "execution_count": 36,
   "metadata": {},
   "outputs": [
    {
     "output_type": "execute_result",
     "data": {
      "text/plain": [
       "['11/27/2012', '3/13/2013']"
      ]
     },
     "metadata": {},
     "execution_count": 36
    }
   ],
   "source": [
    "# 如果你想使用同一个模式去做多次匹配，你应该先将模式字符串预编译为模式对象\n",
    "datepat = re.compile(r'\\d+/\\d+/\\d+')\n",
    "# match() 总是从字符串开始去匹配\n",
    "datepat.match(text1)  # <re.Match object; span=(0, 10), match='11/27/2012'> \n",
    "# datepat.match(text2)  # 未匹配返回空\n",
    "\n",
    "text = 'Today is 11/27/2012. PyCon starts 3/13/2013.'\n",
    "# 想查找字符串任意部分的模式出现位置\n",
    "datepat.findall(text)"
   ]
  },
  {
   "cell_type": "code",
   "execution_count": 40,
   "metadata": {},
   "outputs": [
    {
     "output_type": "stream",
     "name": "stdout",
     "text": [
      "11 27 2012\n"
     ]
    }
   ],
   "source": [
    "# 在定义正则式的时候，通常会利用括号去捕获分组\n",
    "datepat = re.compile(r'(\\d+)/(\\d+)/(\\d+)')\n",
    "m = datepat.match('11/27/2012')\n",
    "# m.group(0), m.group(1), m.group(2), m.group(3), m.groups()\n",
    "# ('11/27/2012', '11', '27', '2012', ('11', '27', '2012'))\n",
    "month, day, year = m.groups()\n",
    "print(month, day, year)"
   ]
  },
  {
   "cell_type": "code",
   "execution_count": 44,
   "metadata": {},
   "outputs": [
    {
     "output_type": "stream",
     "name": "stdout",
     "text": [
      "<re.Match object; span=(9, 19), match='11/27/2012'> ('11', '27', '2012')\n<re.Match object; span=(34, 43), match='3/13/2013'> ('3', '13', '2013')\n"
     ]
    }
   ],
   "source": [
    "# findall() 方法会搜索文本并以列表形式返回所有的匹配\n",
    "datepat.findall(text)\n",
    "# 如果你想以迭代方式返回匹配，可以使用 finditer() 方法来代替\n",
    "for m in datepat.finditer(text):\n",
    "    print(m, m.groups())"
   ]
  },
  {
   "cell_type": "code",
   "execution_count": 48,
   "metadata": {},
   "outputs": [
    {
     "output_type": "stream",
     "name": "stdout",
     "text": [
      "yep, but no, but yep, but no, but yep\nToday is 2012-11-27. PyCon starts 2013-3-13.\n"
     ]
    },
    {
     "output_type": "execute_result",
     "data": {
      "text/plain": [
       "'Today is 2012-11-27. PyCon starts 2013-3-13.'"
      ]
     },
     "metadata": {},
     "execution_count": 48
    }
   ],
   "source": [
    "# 2.5 字符串搜索和替换\n",
    "text = 'yeah, but no, but yeah, but no, but yeah'\n",
    "print(text.replace('yeah', 'yep'))\n",
    "# 对于复杂的模式，使用 re 模块中的 sub() 函数\n",
    "text = 'Today is 11/27/2012. PyCon starts 3/13/2013.'\n",
    "import re\n",
    "# sub() 函数中的第一个参数是被匹配的模式，第二个参数是替换模式。反斜杠数字比如 \\3 指向前面模式的捕获组号\n",
    "print(re.sub(r'(\\d+)/(\\d+)/(\\d+)', r'\\3-\\1-\\2', text))\n",
    "# 命名分组，那么第二个参数请使用 \\g<group_name>\n",
    "re.sub(r'(?P<month>\\d+)/(?P<day>\\d+)/(?P<year>\\d+)', r'\\g<year>-\\g<month>-\\g<day>', text)"
   ]
  },
  {
   "cell_type": "code",
   "execution_count": 53,
   "metadata": {},
   "outputs": [
    {
     "output_type": "stream",
     "name": "stdout",
     "text": [
      "Today is 27 Nov 2012. PyCon starts 13 Mar 2013.\n"
     ]
    },
    {
     "output_type": "execute_result",
     "data": {
      "text/plain": [
       "('Today is 27 Nov 2012. PyCon starts 13 Mar 2013.', 2)"
      ]
     },
     "metadata": {},
     "execution_count": 53
    }
   ],
   "source": [
    "# 对于更加复杂的替换，可以传递一个替换回调函数来代替\n",
    "from calendar import month_abbr\n",
    "def change_date(m):\n",
    "    mon_name = month_abbr[int(m.group(1))]\n",
    "    return '{} {} {}'.format(m.group(2), mon_name, m.group(3))\n",
    "datepat = re.compile(r'(\\d+)/(\\d+)/(\\d+)')\n",
    "print(datepat.sub(change_date, text))\n",
    "# 如果除了替换后的结果外，你还想知道有多少替换发生了，可以使用 re.subn() 来代替\n",
    "newtext, n = datepat.subn(change_date, text)\n",
    "newtext, n"
   ]
  },
  {
   "cell_type": "code",
   "execution_count": 55,
   "metadata": {},
   "outputs": [
    {
     "output_type": "stream",
     "name": "stdout",
     "text": [
      "['PYTHON', 'python', 'Python']\n"
     ]
    },
    {
     "output_type": "execute_result",
     "data": {
      "text/plain": [
       "'UPPER snake, lower snake, Mixed snake'"
      ]
     },
     "metadata": {},
     "execution_count": 55
    }
   ],
   "source": [
    "# 2.6 字符串忽略大小写的搜索替换\n",
    "text = 'UPPER PYTHON, lower python, Mixed Python'\n",
    "import re\n",
    "print(re.findall('python', text, flags=re.IGNORECASE))\n",
    "re.sub('python', 'snake', text, flags=re.IGNORECASE)  # 小缺陷，替换字符串并不会自动跟被匹配字符串的大小写保持一致"
   ]
  },
  {
   "cell_type": "code",
   "execution_count": 58,
   "metadata": {},
   "outputs": [
    {
     "output_type": "stream",
     "name": "stdout",
     "text": [
      "['no.']\n['no.\" Phone says \"yes.']\n"
     ]
    },
    {
     "output_type": "execute_result",
     "data": {
      "text/plain": [
       "['no.', 'yes.']"
      ]
     },
     "metadata": {},
     "execution_count": 58
    }
   ],
   "source": [
    "# 2.7 最短匹配模式\n",
    "# 正则表达式匹配某个文本模式，但是它找到的是模式的最长可能匹配\n",
    "str_pat = re.compile(r'\"(.*)\"')\n",
    "text1 = 'Computer says \"no.\"'\n",
    "print(str_pat.findall(text1))\n",
    "text2 = 'Computer says \"no.\" Phone says \"yes.\"'\n",
    "print(str_pat.findall(text2))  # ['no.\" Phone says \"yes.']\n",
    "# 在模式中的*操作符后面加上?修饰符. 匹配变成非贪婪模式\n",
    "str_pat = re.compile(r'\"(.*?)\"')\n",
    "str_pat.findall(text2)"
   ]
  },
  {
   "cell_type": "code",
   "execution_count": 61,
   "metadata": {},
   "outputs": [
    {
     "output_type": "execute_result",
     "data": {
      "text/plain": [
       "[]"
      ]
     },
     "metadata": {},
     "execution_count": 61
    }
   ],
   "source": [
    "# 2.8 多行匹配模式\n",
    "#### 用点(.)去匹配任意字符的时候，忘记了点(.)不能匹配换行符的事实\n",
    "comment = re.compile(r'/\\*(.*?)\\*/')\n",
    "text1 = '/* this is a comment */'\n",
    "text2 = '''/* this is a\\nmultiline comment */'''\n",
    "comment.findall(text1)  # [' this is a comment ']\n",
    "comment.findall(text2)  # []"
   ]
  },
  {
   "cell_type": "code",
   "execution_count": null,
   "metadata": {},
   "outputs": [],
   "source": [
    "# 2.9 将Unicode文本标准化\n"
   ]
  }
 ]
}