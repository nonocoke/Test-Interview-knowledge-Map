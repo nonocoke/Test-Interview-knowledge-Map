{
 "metadata": {
  "language_info": {
   "codemirror_mode": {
    "name": "ipython",
    "version": 3
   },
   "file_extension": ".py",
   "mimetype": "text/x-python",
   "name": "python",
   "nbconvert_exporter": "python",
   "pygments_lexer": "ipython3",
   "version": "3.8.2"
  },
  "orig_nbformat": 2,
  "kernelspec": {
   "name": "python382jvsc74a57bd031f2aee4e71d21fbe5cf8b01ff0e069b9275f58929596ceb00d14d90e3e16cd6",
   "display_name": "Python 3.8.2 64-bit"
  },
  "metadata": {
   "interpreter": {
    "hash": "31f2aee4e71d21fbe5cf8b01ff0e069b9275f58929596ceb00d14d90e3e16cd6"
   }
  }
 },
 "nbformat": 4,
 "nbformat_minor": 2,
 "cells": [
  {
   "cell_type": "code",
   "execution_count": 1,
   "metadata": {},
   "outputs": [],
   "source": [
    "# 1.1 将序列分解为单独的变量\n",
    "p = (4, 5)\n",
    "x, y = p"
   ]
  },
  {
   "cell_type": "code",
   "execution_count": 2,
   "metadata": {},
   "outputs": [
    {
     "output_type": "stream",
     "name": "stdout",
     "text": [
      "4 5\n"
     ]
    }
   ],
   "source": [
    "print(x, y)"
   ]
  },
  {
   "cell_type": "code",
   "execution_count": 3,
   "metadata": {},
   "outputs": [
    {
     "output_type": "stream",
     "name": "stdout",
     "text": [
      "['773-555-1212', '847-555-1212']\n"
     ]
    }
   ],
   "source": [
    "# 1.2 解压可迭代对象赋值给多个变量\n",
    "record = ('Dave', 'dave@example.com', '773-555-1212', '847-555-1212')\n",
    "name, email, *phone_numbers = record\n",
    "print(phone_numbers)"
   ]
  },
  {
   "cell_type": "code",
   "execution_count": 4,
   "metadata": {},
   "outputs": [
    {
     "output_type": "stream",
     "name": "stdout",
     "text": [
      "['*', '-2', '-2', 'Unprivileged User']\n"
     ]
    }
   ],
   "source": [
    "line = 'nobody:*:-2:-2:Unprivileged User:/var/empty:/usr/bin/false'\n",
    "uname, *fields, homedir, sh = line.split(':')\n",
    "print(fields)"
   ]
  },
  {
   "cell_type": "code",
   "execution_count": 5,
   "metadata": {},
   "outputs": [
    {
     "output_type": "stream",
     "name": "stdout",
     "text": [
      "ACME 2012\n"
     ]
    }
   ],
   "source": [
    "# 使用一个普通的废弃名称，比如 _ 或者 ign （ignore）,解压一些元素后丢弃它们\n",
    "record = ('ACME', 50, 123.45, (12, 18, 2012))\n",
    "name, *_, (*_, year) = record\n",
    "print(name, year)"
   ]
  },
  {
   "cell_type": "code",
   "execution_count": 6,
   "metadata": {},
   "outputs": [
    {
     "output_type": "stream",
     "name": "stdout",
     "text": [
      "[10, 7, 4, 5, 9]\n"
     ]
    }
   ],
   "source": [
    "items = [1, 10, 7, 4, 5, 9]\n",
    "head, *tail = items\n",
    "print(tail)"
   ]
  },
  {
   "cell_type": "code",
   "execution_count": 8,
   "metadata": {},
   "outputs": [
    {
     "output_type": "stream",
     "name": "stdout",
     "text": [
      "deque([2, 3, 4], maxlen=3)\n"
     ]
    }
   ],
   "source": [
    "# 1.3 保留最后 N 个元素\n",
    "from collections import deque\n",
    "q = deque(maxlen=3)\n",
    "q.append(1)\n",
    "q.append(2)\n",
    "q.append(3)\n",
    "q.append(4)\n",
    "print(q)"
   ]
  },
  {
   "cell_type": "code",
   "execution_count": 9,
   "metadata": {},
   "outputs": [
    {
     "output_type": "execute_result",
     "data": {
      "text/plain": [
       "deque([2, 3, 4])"
      ]
     },
     "metadata": {},
     "execution_count": 9
    }
   ],
   "source": [
    "q"
   ]
  },
  {
   "cell_type": "code",
   "execution_count": 10,
   "metadata": {},
   "outputs": [
    {
     "output_type": "stream",
     "name": "stdout",
     "text": [
      "[42, 37, 23]\n[-4, 1, 2]\n"
     ]
    }
   ],
   "source": [
    "# 1.4 查找最大/最小的 k 个元素\n",
    "import heapq\n",
    "nums = [1, 8, 2, 23, 7, -4, 18, 23, 42, 37, 2]\n",
    "print(heapq.nlargest(3, nums))\n",
    "print(heapq.nsmallest(3, nums))"
   ]
  },
  {
   "cell_type": "code",
   "execution_count": 14,
   "metadata": {},
   "outputs": [
    {
     "output_type": "stream",
     "name": "stdout",
     "text": [
      "[{'name': 'YHOO', 'price': 16.35, 'shares': 45},\n {'name': 'FB', 'price': 21.09, 'shares': 200},\n {'name': 'HPQ', 'price': 31.75, 'shares': 35}]\n[{'name': 'AAPL', 'price': 543.22, 'shares': 50},\n {'name': 'ACME', 'price': 115.65, 'shares': 75},\n {'name': 'IBM', 'price': 91.1, 'shares': 100}]\n"
     ]
    }
   ],
   "source": [
    "import pprint\n",
    "portfolio = [\n",
    "    {'name': 'IBM', 'shares': 100, 'price': 91.1},\n",
    "    {'name': 'AAPL', 'shares': 50, 'price': 543.22},\n",
    "    {'name': 'FB', 'shares': 200, 'price': 21.09},\n",
    "    {'name': 'HPQ', 'shares': 35, 'price': 31.75},\n",
    "    {'name': 'YHOO', 'shares': 45, 'price': 16.35},\n",
    "    {'name': 'ACME', 'shares': 75, 'price': 115.65}\n",
    "]\n",
    "# heapq.nlargest(count, heapq(, key))\n",
    "cheap = heapq.nsmallest(3, portfolio, key=lambda s: s['price'])\n",
    "pprint.pprint(cheap)\n",
    "expensive = heapq.nlargest(3, portfolio, key=lambda s: s['price'])\n",
    "pprint.pprint(expensive)"
   ]
  },
  {
   "cell_type": "code",
   "execution_count": 15,
   "metadata": {},
   "outputs": [],
   "source": [
    "# 1.5 实现一个优先级队列\n",
    "import heapq\n",
    "\n",
    "class PriorityQueue:\n",
    "    def __init__(self):\n",
    "        self._queue = []\n",
    "        self._index = 0\n",
    "\n",
    "    def push(self, item, priority):\n",
    "        # 引入另外的 index 变量组成三元组 (priority, index, item)\n",
    "        # 先比较优先级，再比较插入顺序\n",
    "        heapq.heappush(self._queue, (-priority, self._index, item))\n",
    "        self._index += 1\n",
    "\n",
    "    def pop(self):\n",
    "        return heapq.heappop(self._queue)[-1]\n",
    "\n",
    "\n",
    "class Item:\n",
    "    def __init__(self, name):\n",
    "        self.name = name\n",
    "    def __repr__(self):\n",
    "        return 'Item({!r})'.format(self.name)"
   ]
  },
  {
   "cell_type": "code",
   "execution_count": 17,
   "metadata": {},
   "outputs": [
    {
     "output_type": "execute_result",
     "data": {
      "text/plain": [
       "Item('oo')"
      ]
     },
     "metadata": {},
     "execution_count": 17
    }
   ],
   "source": [
    "q = PriorityQueue()\n",
    "q.push(Item('foo'), 1)\n",
    "q.push(Item('foo'), 3)\n",
    "q.push(Item('oo'), 5)\n",
    "q.push(Item('foof'), 2)\n",
    "q.pop()"
   ]
  },
  {
   "cell_type": "code",
   "execution_count": 18,
   "metadata": {},
   "outputs": [
    {
     "output_type": "execute_result",
     "data": {
      "text/plain": [
       "Item('foo')"
      ]
     },
     "metadata": {},
     "execution_count": 18
    }
   ],
   "source": [
    "q.pop()"
   ]
  },
  {
   "cell_type": "code",
   "execution_count": 19,
   "metadata": {},
   "outputs": [
    {
     "output_type": "execute_result",
     "data": {
      "text/plain": [
       "Item('foof')"
      ]
     },
     "metadata": {},
     "execution_count": 19
    }
   ],
   "source": [
    "q.pop()"
   ]
  },
  {
   "cell_type": "code",
   "execution_count": 20,
   "metadata": {},
   "outputs": [
    {
     "output_type": "stream",
     "name": "stdout",
     "text": [
      "defaultdict(<class 'list'>, {'a': [1, 2], 'b': [4]})\n"
     ]
    }
   ],
   "source": [
    "# 1.6 字典中的键映射多个值 multidict\n",
    "from collections import defaultdict\n",
    "\n",
    "d = defaultdict(list)\n",
    "d['a'].append(1)\n",
    "d['a'].append(2)\n",
    "d['b'].append(4)\n",
    "print(d)"
   ]
  },
  {
   "cell_type": "code",
   "execution_count": 21,
   "metadata": {},
   "outputs": [
    {
     "output_type": "stream",
     "name": "stdout",
     "text": [
      "{'a': [1, 2], 'b': [4]}\n"
     ]
    }
   ],
   "source": [
    "d = {} # 一个普通的字典\n",
    "d.setdefault('a', []).append(1)\n",
    "d.setdefault('a', []).append(2)\n",
    "d.setdefault('b', []).append(4)\n",
    "print(d)"
   ]
  },
  {
   "cell_type": "code",
   "execution_count": 22,
   "metadata": {},
   "outputs": [
    {
     "output_type": "execute_result",
     "data": {
      "text/plain": [
       "{'a': [3, 4], 'b': [5]}"
      ]
     },
     "metadata": {},
     "execution_count": 22
    }
   ],
   "source": [
    "pairs = [('a',3),('a',4),('b',5)]\n",
    "d = {}\n",
    "for key, value in pairs:\n",
    "    if key not in d:\n",
    "        d[key] = []\n",
    "    d[key].append(value)\n",
    "d"
   ]
  },
  {
   "cell_type": "code",
   "execution_count": 23,
   "metadata": {},
   "outputs": [
    {
     "output_type": "execute_result",
     "data": {
      "text/plain": [
       "defaultdict(list, {'a': [3, 4], 'b': [5]})"
      ]
     },
     "metadata": {},
     "execution_count": 23
    }
   ],
   "source": [
    "d = defaultdict(list)\n",
    "for key, value in pairs:\n",
    "    d[key].append(value)\n",
    "d"
   ]
  },
  {
   "cell_type": "code",
   "execution_count": 24,
   "metadata": {},
   "outputs": [],
   "source": [
    "# 1.7 字典排序 collections.OrderedDict [PASS]"
   ]
  },
  {
   "cell_type": "code",
   "execution_count": 25,
   "metadata": {},
   "outputs": [
    {
     "output_type": "execute_result",
     "data": {
      "text/plain": [
       "(10.75, 'FB')"
      ]
     },
     "metadata": {},
     "execution_count": 25
    }
   ],
   "source": [
    "# 1.8 字典的运算 [最小值、最大值、排序]\n",
    "prices = {\n",
    "    'ACME': 45.23,\n",
    "    'AAPL': 612.78,\n",
    "    'IBM': 205.55,\n",
    "    'HPQ': 37.20,\n",
    "    'FB': 10.75\n",
    "}\n",
    "min_price = min(zip(prices.values(), prices.keys()))\n",
    "min_price"
   ]
  },
  {
   "cell_type": "code",
   "execution_count": 26,
   "metadata": {},
   "outputs": [
    {
     "output_type": "execute_result",
     "data": {
      "text/plain": [
       "(612.78, 'AAPL')"
      ]
     },
     "metadata": {},
     "execution_count": 26
    }
   ],
   "source": [
    "max_price = max(zip(prices.values(), prices.keys()))\n",
    "max_price"
   ]
  },
  {
   "cell_type": "code",
   "execution_count": 27,
   "metadata": {},
   "outputs": [
    {
     "output_type": "execute_result",
     "data": {
      "text/plain": [
       "[(10.75, 'FB'),\n",
       " (37.2, 'HPQ'),\n",
       " (45.23, 'ACME'),\n",
       " (205.55, 'IBM'),\n",
       " (612.78, 'AAPL')]"
      ]
     },
     "metadata": {},
     "execution_count": 27
    }
   ],
   "source": [
    "prices_sorted = sorted(zip(prices.values(), prices.keys()))\n",
    "prices_sorted"
   ]
  },
  {
   "cell_type": "code",
   "execution_count": 28,
   "metadata": {},
   "outputs": [
    {
     "output_type": "execute_result",
     "data": {
      "text/plain": [
       "'FB'"
      ]
     },
     "metadata": {},
     "execution_count": 28
    }
   ],
   "source": [
    "min(prices, key=lambda k: prices[k])"
   ]
  },
  {
   "cell_type": "code",
   "execution_count": 29,
   "metadata": {},
   "outputs": [
    {
     "output_type": "execute_result",
     "data": {
      "text/plain": [
       "[(45.23, 'AAA'), (45.23, 'ZZZ')]"
      ]
     },
     "metadata": {},
     "execution_count": 29
    }
   ],
   "source": [
    "prices = { 'AAA' : 45.23, 'ZZZ': 45.23 }\n",
    "prices_sorted = sorted(zip(prices.values(), prices.keys()))\n",
    "prices_sorted"
   ]
  },
  {
   "cell_type": "code",
   "execution_count": 33,
   "metadata": {},
   "outputs": [
    {
     "output_type": "stream",
     "name": "stdout",
     "text": [
      "key&  {'x', 'y'}\nkey-  {'z'}\nitem&  {('y', 2)}\n"
     ]
    }
   ],
   "source": [
    "# 1.9 查找两字典的相同点\n",
    "a = {'x' : 1, 'y' : 2, 'z' : 3}\n",
    "b = {'w' : 10, 'x' : 11, 'y' : 2}\n",
    "# keys(), items()\n",
    "#     values() 方法不支持集合操作, 某种程度上是因为值视图不能保证所有的值互不相同，这样会导致某些集合操作会出现问题\n",
    "print(\"key& \", a.keys() & b.keys()) # { 'x', 'y' }\n",
    "print(\"key- \", a.keys() - b.keys()) # { 'z' }\n",
    "print(\"item& \", a.items() & b.items()) # { ('y', 2) }"
   ]
  },
  {
   "cell_type": "code",
   "execution_count": 35,
   "metadata": {},
   "outputs": [
    {
     "output_type": "execute_result",
     "data": {
      "text/plain": [
       "{'x': 1, 'y': 2}"
      ]
     },
     "metadata": {},
     "execution_count": 35
    }
   ],
   "source": [
    "# 用于修改或者过滤字典元素\n",
    "c = {key:a[key] for key in a.keys() - {'z', 'w'}}\n",
    "c"
   ]
  },
  {
   "cell_type": "code",
   "execution_count": 36,
   "metadata": {},
   "outputs": [
    {
     "output_type": "execute_result",
     "data": {
      "text/plain": [
       "[1, 5, 2, 9, 10]"
      ]
     },
     "metadata": {},
     "execution_count": 36
    }
   ],
   "source": [
    "# 1.10 删除序列相同元素并保持顺序\n",
    "# 怎样在一个序列上面保持元素顺序的同时消除重复的值?\n",
    "# hashtable 类型\n",
    "def dedupe(items):\n",
    "    seen = set()\n",
    "    for item in items:\n",
    "        if item not in seen:\n",
    "            yield item\n",
    "            seen.add(item)\n",
    "a = [1, 5, 2, 1, 9, 1, 5, 10]\n",
    "list(dedupe(a))"
   ]
  },
  {
   "cell_type": "code",
   "execution_count": 46,
   "metadata": {},
   "outputs": [
    {
     "output_type": "execute_result",
     "data": {
      "text/plain": [
       "[{'x': 1, 'y': 2}, {'x': 1, 'y': 3}, {'x': 2, 'y': 4}]"
      ]
     },
     "metadata": {},
     "execution_count": 46
    }
   ],
   "source": [
    "# 不可hash类型\n",
    "def dedupe(items, key=None):\n",
    "    seen = set()\n",
    "    for item in items:\n",
    "        val = item if key is None else key(item)  # key(item) ??\n",
    "        if val not in seen:\n",
    "            yield item\n",
    "            seen.add(val)\n",
    "a = [ {'x':1, 'y':2}, {'x':1, 'y':3}, {'x':1, 'y':2}, {'x':2, 'y':4}]\n",
    "list(dedupe(a, key=lambda d: (d['x'], d['y'])))"
   ]
  },
  {
   "cell_type": "code",
   "execution_count": 40,
   "metadata": {},
   "outputs": [
    {
     "output_type": "execute_result",
     "data": {
      "text/plain": [
       "[{'x': 1, 'y': 2}, {'x': 2, 'y': 4}]"
      ]
     },
     "metadata": {},
     "execution_count": 40
    }
   ],
   "source": [
    "list(dedupe(a, key=lambda d: d['x']))"
   ]
  },
  {
   "cell_type": "code",
   "execution_count": 47,
   "metadata": {},
   "outputs": [
    {
     "output_type": "execute_result",
     "data": {
      "text/plain": [
       "{1, 2, 5, 9, 10}"
      ]
     },
     "metadata": {},
     "execution_count": 47
    }
   ],
   "source": [
    "# 仅消除重复元素， 不考虑元素顺序\n",
    "a = [1, 5, 2, 1, 9, 1, 5, 10]\n",
    "set(a)"
   ]
  },
  {
   "cell_type": "code",
   "execution_count": 48,
   "metadata": {},
   "outputs": [
    {
     "output_type": "execute_result",
     "data": {
      "text/plain": [
       "51325.0"
      ]
     },
     "metadata": {},
     "execution_count": 48
    }
   ],
   "source": [
    "# 1.11 命名切片\n",
    "######    0123456789012345678901234567890123456789012345678901234567890'\n",
    "record = '....................100 .......513.25 ..........'\n",
    "cost = int(record[20:23]) * float(record[31:37])\n",
    "cost"
   ]
  },
  {
   "cell_type": "code",
   "execution_count": 52,
   "metadata": {},
   "outputs": [
    {
     "output_type": "execute_result",
     "data": {
      "text/plain": [
       "51325.0"
      ]
     },
     "metadata": {},
     "execution_count": 52
    }
   ],
   "source": [
    "SHARES = slice(20, 23)  # 命名切片\n",
    "PRICE = slice(31, 37)\n",
    "# record[SHARES] == record[20:23]\n",
    "cost = int(record[SHARES]) * float(record[PRICE])\n",
    "cost"
   ]
  },
  {
   "cell_type": "code",
   "execution_count": 53,
   "metadata": {},
   "outputs": [
    {
     "output_type": "execute_result",
     "data": {
      "text/plain": [
       "(20, 23, 1)"
      ]
     },
     "metadata": {},
     "execution_count": 53
    }
   ],
   "source": [
    "# slice 对象，可以分别调用它的 a.start , a.stop , a.step 属性\n",
    "SHARES.start, SHARES.stop, SHARES.step"
   ]
  },
  {
   "cell_type": "code",
   "execution_count": null,
   "metadata": {},
   "outputs": [],
   "source": [
    "# 1.12 序列中出现次数最多的元素"
   ]
  }
 ]
}